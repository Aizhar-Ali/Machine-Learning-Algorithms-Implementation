{
 "cells": [
  {
   "cell_type": "markdown",
   "metadata": {},
   "source": [
    "# Univariate Linear Regression\n",
    "## Cost Function, Gradient Descent\n",
    "https://medium.com/@lachlanmiller_52885/machine-learning-week-1-cost-function-gradient-descent-and-univariate-linear-regression-8f5fe69815fd\n",
    "https://medium.com/@lachlanmiller_52885/understanding-and-calculating-the-cost-function-for-linear-regression-39b8a3519fcb\n",
    "### importing Libraries"
   ]
  },
  {
   "cell_type": "code",
   "execution_count": 2,
   "metadata": {},
   "outputs": [],
   "source": [
    "import numpy as np\n",
    "import matplotlib.pyplot as plt\n",
    "import seaborn as sns\n",
    "%matplotlib inline"
   ]
  },
  {
   "cell_type": "markdown",
   "metadata": {},
   "source": [
    "# Step 1:\n",
    "## Model Representation\n",
    "\n",
    "First, the goal of most machine learning algorithms is to construct a model: a hypothesis that can be used to estimate Y based on X. The hypothesis, or model, maps inputs to outputs.\n",
    "\n",
    "The hypothesis is usually presented as\n",
    "\n",
    "<img src='./Hypothesis.png'>\n",
    "\n",
    "The goal of creating a model is to choose parameters, or theta values, so that h(x) is close to y for the training data, x and y."
   ]
  },
  {
   "cell_type": "code",
   "execution_count": 11,
   "metadata": {},
   "outputs": [
    {
     "data": {
      "text/plain": [
       "<matplotlib.legend.Legend at 0x24f751a6cf8>"
      ]
     },
     "execution_count": 11,
     "metadata": {},
     "output_type": "execute_result"
    },
    {
     "data": {
      "image/png": "[encoded data removed]",
      "text/plain": [
       "<Figure size 360x360 with 1 Axes>"
      ]
     },
     "metadata": {},
     "output_type": "display_data"
    }
   ],
   "source": [
    "X = [1,2,3]\n",
    "Y = [1,2.5,3.5]\n",
    "\n",
    "fig = plt.figure(figsize=(5,5))\n",
    "model = fig.add_axes([0,0,1,1])\n",
    "model.plot(X,Y,'r',label='original data')\n",
    "\n",
    "#lets find Values of Theta for regressionline Represenation or Hypothesis Fucntion\n",
    "bestfit_line1 = [.5,1,1.5]\n",
    "model.plot(X,bestfit_line1,'b',label='bestfit_line1 h(0.5) X')\n",
    "\n",
    "bestfit_line2 = [1,2,3]\n",
    "model.plot(X,bestfit_line2,'g',label='bestfit_line2 h(1) X')\n",
    "\n",
    "bestfit_line3 = [1.5,3,4.5]\n",
    "model.plot(X,bestfit_line3,'y',label='bestfit_line3 h(1.5) X')\n",
    "\n",
    "plt.legend()"
   ]
  },
  {
   "cell_type": "markdown",
   "metadata": {},
   "source": [
    "The green line, best_fit_2, is the best fit of the three. We can see this is likely the case by visual inspection, but now we have a more defined process for confirming our observations.\n",
    "\n",
    "We just tried three random hypothesis — it is entirely possible another one that we did not try has a lowest cost than bestfit_2. This is where Gradient Descent (henceforce GD) comes in useful. We can use GD to find the minimized value automatically, without trying a bunch of hypothesis one by one."
   ]
  },
  {
   "cell_type": "markdown",
   "metadata": {},
   "source": [
    "# Step 2:\n",
    "# Calculating the cost function"
   ]
  },
  {
   "cell_type": "markdown",
   "metadata": {},
   "source": [
    "<img src='./CostFunction.png'>"
   ]
  },
  {
   "cell_type": "code",
   "execution_count": 40,
   "metadata": {},
   "outputs": [
    {
     "name": "stdout",
     "output_type": "stream",
     "text": [
      "Cost for  0.5 is  1.0833333333333333\n",
      "Cost for  1.0 is  0.08333333333333333\n",
      "Cost for  1.5 is  0.25\n"
     ]
    }
   ],
   "source": [
    "# original datasets are X an Y\n",
    "# slope of best_fit_1 is 0.5\n",
    "# slope of best_fit_2 is 1.0\n",
    "# slope of best_fit_3 is 1.5\n",
    "\n",
    "\n",
    "hyps = [0.5, 1.0, 1.5]\n",
    "m = len(X)\n",
    "\n",
    "# mutiply the original X values by the theta \n",
    "# to produce hypothesis values for each X which i use in above step 1 firstly i computed these values on paper now with code\n",
    "def calculate_hypothesis_values(data_X,slope_hyps):\n",
    "    h_hyps_Xvalues = []\n",
    "    for x in range(len(data_X)):\n",
    "        h_hyps_Xvalues.append(data_X[x]*slope_hyps)\n",
    "    return h_hyps_Xvalues\n",
    "\n",
    "\n",
    "# calculate cost by looping each sample\n",
    "# subtract hyp(x) from y\n",
    "# square the result\n",
    "# sum them all together\n",
    "\n",
    "def calculate_cost_values(m,h_X,y):\n",
    "    total = 0\n",
    "    for i in range(m):\n",
    "        squared_error = (h_X[i]- y[i])**2\n",
    "        total += squared_error\n",
    "    return total * (1 / (2*m))\n",
    "        \n",
    "        \n",
    "# calculate cost for each hypothesis\n",
    "for i in range(len(hyps)):\n",
    "    hyp_values = calculate_hypothesis_values(X,hyps[i])\n",
    "    print('Cost for ',hyps[i],'is ',calculate_cost_values(m,hyp_values,y))"
   ]
  },
  {
   "cell_type": "markdown",
   "metadata": {},
   "source": []
  }
 ],
 "metadata": {
  "kernelspec": {
   "display_name": "Python 3",
   "language": "python",
   "name": "python3"
  },
  "language_info": {
   "codemirror_mode": {
    "name": "ipython",
    "version": 3
   },
   "file_extension": ".py",
   "mimetype": "text/x-python",
   "name": "python",
   "nbconvert_exporter": "python",
   "pygments_lexer": "ipython3",
   "version": "3.6.5"
  }
 },
 "nbformat": 4,
 "nbformat_minor": 2
}
